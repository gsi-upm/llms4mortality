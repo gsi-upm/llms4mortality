{
 "cells": [
  {
   "cell_type": "code",
   "execution_count": null,
   "metadata": {},
   "outputs": [],
   "source": [
    "# Same as 1nn, but using 2 case bases, one for positive examples and one for negative.\n",
    "# This generates 2 separate dfs of summaries\n",
    "\n",
    "# TODO"
   ]
  }
 ],
 "metadata": {
  "language_info": {
   "name": "python"
  }
 },
 "nbformat": 4,
 "nbformat_minor": 2
}
