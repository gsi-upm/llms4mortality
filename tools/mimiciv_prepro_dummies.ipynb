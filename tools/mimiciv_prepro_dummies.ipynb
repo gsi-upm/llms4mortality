{
 "cells": [
  {
   "cell_type": "code",
   "execution_count": 1,
   "metadata": {},
   "outputs": [],
   "source": [
    "# Helper notebooks to generate dummies from categorical variables out of the precomputed dataframe"
   ]
  },
  {
   "cell_type": "code",
   "execution_count": 2,
   "metadata": {},
   "outputs": [],
   "source": [
    "import pandas as pd\n",
    "from pathlib import Path"
   ]
  },
  {
   "cell_type": "code",
   "execution_count": 3,
   "metadata": {},
   "outputs": [],
   "source": [
    "# Globals\n",
    "\n",
    "SEED = 42\n",
    "\n",
    "# Data info. Will be used to load the appropriate precomputed data form disk\n",
    "samp_size = 5000\n",
    "balanced_data = True"
   ]
  },
  {
   "cell_type": "code",
   "execution_count": 4,
   "metadata": {},
   "outputs": [
    {
     "name": "stdout",
     "output_type": "stream",
     "text": [
      "> Project path is /home/daucco/ownCloud/unsync/_entregabledata/llms4mortality\n"
     ]
    }
   ],
   "source": [
    "## Project root path\n",
    "pjpath = ''\n",
    "\n",
    "# Hacky way of finding the project's root path. Do not rely on this, set your own pjpath!\n",
    "for p in Path.cwd().parents:\n",
    "    if p.stem == 'llms4mortality':\n",
    "        pjpath = p\n",
    "        break\n",
    "\n",
    "print(f'> Project path is {pjpath}')"
   ]
  },
  {
   "cell_type": "code",
   "execution_count": 5,
   "metadata": {},
   "outputs": [],
   "source": [
    "# Set this to your MIMIC-IV path where discharge, patients and admissions tables are located\n",
    "mimicpath = pjpath / 'data/mimiciv'"
   ]
  },
  {
   "cell_type": "code",
   "execution_count": 6,
   "metadata": {},
   "outputs": [],
   "source": [
    "# Load precomputed dataframe.\n",
    "df_id = f'mimiciv_4_mortality_S{samp_size}{'_balanced' if balanced_data else ''}.csv.gz'\n",
    "df = pd.read_csv(mimicpath / df_id, index_col='hadm_id')"
   ]
  },
  {
   "cell_type": "code",
   "execution_count": 7,
   "metadata": {},
   "outputs": [
    {
     "data": {
      "text/plain": [
       "(5000, 726)"
      ]
     },
     "execution_count": 7,
     "metadata": {},
     "output_type": "execute_result"
    }
   ],
   "source": [
    "from ast import literal_eval\n",
    "\n",
    "# Gets dummies from categorical data\n",
    "categorical_columns = ['gender', 'admission_type', 'insurance', 'marital_status', 'race']\n",
    "for category in categorical_columns:\n",
    "    df = pd.get_dummies(df, prefix=category, prefix_sep='_', columns=[category])\n",
    "\n",
    "# Special treatment for drg_codes\n",
    "# First we evaluate data, as it was reimported as strings instead of lists\n",
    "df_drg = df['drg_code'].apply(literal_eval).to_frame()\n",
    "\n",
    "# Then we explode values\n",
    "df_drg = df_drg.explode('drg_code')\n",
    "\n",
    "# Aggregate categoricals into a single row per hadm_id (index)\n",
    "df_drg = pd.get_dummies(df_drg, prefix='drg_code', prefix_sep='_', columns=['drg_code']).groupby('hadm_id').sum()\n",
    "\n",
    "# Drop original drg_code from df and merge with drg_code\n",
    "df = df.drop(columns=['drg_code'])\n",
    "df = pd.merge(df, df_drg, on='hadm_id', how='inner')\n",
    "\n",
    "df.shape"
   ]
  },
  {
   "cell_type": "code",
   "execution_count": 8,
   "metadata": {},
   "outputs": [],
   "source": [
    "# Export result to disk\n",
    "df.reset_index().to_csv(mimicpath / f'd_{df_id}', index=False)"
   ]
  }
 ],
 "metadata": {
  "kernelspec": {
   "display_name": "dev-gsicbr",
   "language": "python",
   "name": "python3"
  },
  "language_info": {
   "codemirror_mode": {
    "name": "ipython",
    "version": 3
   },
   "file_extension": ".py",
   "mimetype": "text/x-python",
   "name": "python",
   "nbconvert_exporter": "python",
   "pygments_lexer": "ipython3",
   "version": "3.13.0"
  }
 },
 "nbformat": 4,
 "nbformat_minor": 2
}
